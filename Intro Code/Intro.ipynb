{
 "cells": [
  {
   "cell_type": "code",
   "execution_count": 1,
   "id": "7d9f0308",
   "metadata": {},
   "outputs": [
    {
     "data": {
      "text/html": [
       "<h3>Version Information</h3><table><tr><th>Qiskit Software</th><th>Version</th></tr><tr><td><code>qiskit-terra</code></td><td>0.20.2</td></tr><tr><td><code>qiskit-aer</code></td><td>0.10.4</td></tr><tr><td><code>qiskit-ignis</code></td><td>0.7.1</td></tr><tr><td><code>qiskit-ibmq-provider</code></td><td>0.19.1</td></tr><tr><td><code>qiskit</code></td><td>0.36.2</td></tr><tr><th>System information</th></tr><tr><td>Python version</td><td>3.9.7</td></tr><tr><td>Python compiler</td><td>Clang 10.0.0 </td></tr><tr><td>Python build</td><td>default, Sep 16 2021 08:50:36</td></tr><tr><td>OS</td><td>Darwin</td></tr><tr><td>CPUs</td><td>8</td></tr><tr><td>Memory (Gb)</td><td>8.0</td></tr><tr><td colspan='2'>Thu Jun 30 11:35:26 2022 MDT</td></tr></table>"
      ],
      "text/plain": [
       "<IPython.core.display.HTML object>"
      ]
     },
     "metadata": {},
     "output_type": "display_data"
    }
   ],
   "source": [
    "# import required libraries and packages\n",
    "from qiskit import *\n",
    "from qiskit.visualization import *\n",
    "from qiskit.tools.jupyter import *\n",
    "from math import *\n",
    "from numpy import *\n",
    "import random\n",
    "\n",
    "# print version table\n",
    "\n",
    "%qiskit_version_table\n"
   ]
  },
  {
   "cell_type": "code",
   "execution_count": 194,
   "id": "51588009",
   "metadata": {},
   "outputs": [],
   "source": [
    "#variables followed by operations\n",
    "a = 1; b = 3; "
   ]
  },
  {
   "cell_type": "code",
   "execution_count": 195,
   "id": "3c86f659",
   "metadata": {},
   "outputs": [
    {
     "data": {
      "text/plain": [
       "4"
      ]
     },
     "execution_count": 195,
     "metadata": {},
     "output_type": "execute_result"
    }
   ],
   "source": [
    "a+b"
   ]
  },
  {
   "cell_type": "code",
   "execution_count": 196,
   "id": "e89457d1",
   "metadata": {},
   "outputs": [
    {
     "data": {
      "text/plain": [
       "-2"
      ]
     },
     "execution_count": 196,
     "metadata": {},
     "output_type": "execute_result"
    }
   ],
   "source": [
    "a-b"
   ]
  },
  {
   "cell_type": "code",
   "execution_count": 197,
   "id": "1225f856",
   "metadata": {},
   "outputs": [
    {
     "data": {
      "text/plain": [
       "3"
      ]
     },
     "execution_count": 197,
     "metadata": {},
     "output_type": "execute_result"
    }
   ],
   "source": [
    "a*b"
   ]
  },
  {
   "cell_type": "code",
   "execution_count": 198,
   "id": "47e5b6fc",
   "metadata": {},
   "outputs": [
    {
     "data": {
      "text/plain": [
       "0.3333333333333333"
      ]
     },
     "execution_count": 198,
     "metadata": {},
     "output_type": "execute_result"
    }
   ],
   "source": [
    "a/b"
   ]
  },
  {
   "cell_type": "code",
   "execution_count": 199,
   "id": "62622c44",
   "metadata": {},
   "outputs": [
    {
     "data": {
      "text/plain": [
       "27"
      ]
     },
     "execution_count": 199,
     "metadata": {},
     "output_type": "execute_result"
    }
   ],
   "source": [
    "b**b"
   ]
  },
  {
   "cell_type": "code",
   "execution_count": 200,
   "id": "345cf88f",
   "metadata": {},
   "outputs": [],
   "source": [
    "#variable types\n",
    "\n",
    "an_int = 42;\n",
    "a_float = 4.1;\n",
    "a_bool = True;\n",
    "another_bool = False;\n",
    "a_string = 'hi';\n",
    "another_string = \"hi\";\n",
    "nonetype = None;"
   ]
  },
  {
   "cell_type": "code",
   "execution_count": 201,
   "id": "985e1bc1",
   "metadata": {},
   "outputs": [
    {
     "data": {
      "text/plain": [
       "42"
      ]
     },
     "execution_count": 201,
     "metadata": {},
     "output_type": "execute_result"
    }
   ],
   "source": [
    "a_list = [ 42, 0.5, True, [0,1], None, 'Banana' ]\n",
    "a_list[0]"
   ]
  },
  {
   "cell_type": "code",
   "execution_count": 202,
   "id": "2de48117",
   "metadata": {},
   "outputs": [
    {
     "data": {
      "text/plain": [
       "42"
      ]
     },
     "execution_count": 202,
     "metadata": {},
     "output_type": "execute_result"
    }
   ],
   "source": [
    "a_tuple = ( 42, 0.5, True, [0,1], None, 'Banana' )\n",
    "a_tuple[0]"
   ]
  },
  {
   "cell_type": "code",
   "execution_count": 203,
   "id": "87fa8b3d",
   "metadata": {},
   "outputs": [
    {
     "data": {
      "text/plain": [
       "'Apple'"
      ]
     },
     "execution_count": 203,
     "metadata": {},
     "output_type": "execute_result"
    }
   ],
   "source": [
    "# can edit list\n",
    "a_list[5] = 'Apple';\n",
    "a_list[5]"
   ]
  },
  {
   "cell_type": "code",
   "execution_count": 204,
   "id": "29a8a8ad",
   "metadata": {},
   "outputs": [
    {
     "ename": "TypeError",
     "evalue": "'tuple' object does not support item assignment",
     "output_type": "error",
     "traceback": [
      "\u001b[0;31m---------------------------------------------------------------------------\u001b[0m",
      "\u001b[0;31mTypeError\u001b[0m                                 Traceback (most recent call last)",
      "\u001b[0;32m/var/folders/hp/rvx4k2xs5k3_4xrx3_gtwqph0000gn/T/ipykernel_9361/3121704031.py\u001b[0m in \u001b[0;36m<module>\u001b[0;34m\u001b[0m\n\u001b[1;32m      1\u001b[0m \u001b[0;31m# cannot edit tuple\u001b[0m\u001b[0;34m\u001b[0m\u001b[0;34m\u001b[0m\u001b[0m\n\u001b[0;32m----> 2\u001b[0;31m \u001b[0ma_tuple\u001b[0m\u001b[0;34m[\u001b[0m\u001b[0;36m5\u001b[0m\u001b[0;34m]\u001b[0m \u001b[0;34m=\u001b[0m \u001b[0;34m'Apple'\u001b[0m\u001b[0;34m;\u001b[0m\u001b[0;34m\u001b[0m\u001b[0;34m\u001b[0m\u001b[0m\n\u001b[0m\u001b[1;32m      3\u001b[0m \u001b[0ma_tuple\u001b[0m\u001b[0;34m[\u001b[0m\u001b[0;36m5\u001b[0m\u001b[0;34m]\u001b[0m\u001b[0;34m\u001b[0m\u001b[0;34m\u001b[0m\u001b[0m\n",
      "\u001b[0;31mTypeError\u001b[0m: 'tuple' object does not support item assignment"
     ]
    }
   ],
   "source": [
    "# cannot edit tuple\n",
    "a_tuple[5] = 'Apple';\n",
    "a_tuple[5]"
   ]
  },
  {
   "cell_type": "code",
   "execution_count": 205,
   "id": "5343e0c9",
   "metadata": {},
   "outputs": [
    {
     "data": {
      "text/plain": [
       "3.14"
      ]
     },
     "execution_count": 205,
     "metadata": {},
     "output_type": "execute_result"
    }
   ],
   "source": [
    "# can append to list\n",
    "a_list.append( 3.14 )\n",
    "a_list[6]"
   ]
  },
  {
   "cell_type": "code",
   "execution_count": 206,
   "id": "71d919be",
   "metadata": {},
   "outputs": [
    {
     "ename": "AttributeError",
     "evalue": "'tuple' object has no attribute 'append'",
     "output_type": "error",
     "traceback": [
      "\u001b[0;31m---------------------------------------------------------------------------\u001b[0m",
      "\u001b[0;31mAttributeError\u001b[0m                            Traceback (most recent call last)",
      "\u001b[0;32m/var/folders/hp/rvx4k2xs5k3_4xrx3_gtwqph0000gn/T/ipykernel_9361/1409498635.py\u001b[0m in \u001b[0;36m<module>\u001b[0;34m\u001b[0m\n\u001b[1;32m      1\u001b[0m \u001b[0;31m# cannot append to tuple\u001b[0m\u001b[0;34m\u001b[0m\u001b[0;34m\u001b[0m\u001b[0m\n\u001b[0;32m----> 2\u001b[0;31m \u001b[0ma_tuple\u001b[0m\u001b[0;34m.\u001b[0m\u001b[0mappend\u001b[0m\u001b[0;34m(\u001b[0m \u001b[0;36m3.14\u001b[0m \u001b[0;34m)\u001b[0m\u001b[0;34m\u001b[0m\u001b[0;34m\u001b[0m\u001b[0m\n\u001b[0m\u001b[1;32m      3\u001b[0m \u001b[0ma_tuple\u001b[0m\u001b[0;34m[\u001b[0m\u001b[0;36m6\u001b[0m\u001b[0;34m]\u001b[0m\u001b[0;34m\u001b[0m\u001b[0;34m\u001b[0m\u001b[0m\n",
      "\u001b[0;31mAttributeError\u001b[0m: 'tuple' object has no attribute 'append'"
     ]
    }
   ],
   "source": [
    "# cannot append to tuple\n",
    "a_tuple.append( 3.14 )\n",
    "a_tuple[6]"
   ]
  },
  {
   "cell_type": "code",
   "execution_count": 207,
   "id": "b547897a",
   "metadata": {},
   "outputs": [
    {
     "name": "stdout",
     "output_type": "stream",
     "text": [
      "0\n",
      "1\n",
      "2\n",
      "3\n",
      "4\n"
     ]
    }
   ],
   "source": [
    "# for loop using the range(n) function which starts at 0 (by default), and ends at n-1.\n",
    "for j in range(5):\n",
    "    print(j)"
   ]
  },
  {
   "cell_type": "code",
   "execution_count": 208,
   "id": "5308783e",
   "metadata": {},
   "outputs": [
    {
     "name": "stdout",
     "output_type": "stream",
     "text": [
      "42\n",
      "0.5\n",
      "True\n",
      "[0, 1]\n",
      "None\n",
      "Apple\n",
      "3.14\n"
     ]
    }
   ],
   "source": [
    "# can iterate over a list\n",
    "for j in a_list:\n",
    "    print(j)"
   ]
  },
  {
   "cell_type": "code",
   "execution_count": 209,
   "id": "8e2da5b4",
   "metadata": {},
   "outputs": [
    {
     "name": "stdout",
     "output_type": "stream",
     "text": [
      "key = 1\n",
      "value = This is the value, for the key 1\n",
      "\n",
      "key = This is the key for a value 1\n",
      "value = 1\n",
      "\n",
      "key = False\n",
      "value = :)\n",
      "\n",
      "key = (0, 1)\n",
      "value = 256\n",
      "\n"
     ]
    }
   ],
   "source": [
    "# this is a dictionary, it has key:value pairs\n",
    "a_dict = { 1:'This is the value, for the key 1', 'This is the key for a value 1':1, False:':)', (0,1):256 }\n",
    "\n",
    "# we can iterate over it and print the list\n",
    "for key in a_dict:\n",
    "    value = a_dict[key]\n",
    "    print('key =',key)\n",
    "    print('value =',value)\n",
    "    print()"
   ]
  },
  {
   "cell_type": "code",
   "execution_count": 210,
   "id": "6f95a967",
   "metadata": {},
   "outputs": [
    {
     "name": "stdout",
     "output_type": "stream",
     "text": [
      "c is greater than d\n"
     ]
    }
   ],
   "source": [
    "# if-elif-else loop, checking presence, checking equality\n",
    "\n",
    "c = 3;\n",
    "d = 1;\n",
    "\n",
    "if c>d:\n",
    "    print('c is greater than d')\n",
    "elif c<d:\n",
    "    print('c is lesser than d')\n",
    "else: \n",
    "    print('c is equal to d')"
   ]
  },
  {
   "cell_type": "code",
   "execution_count": 211,
   "id": "b08871a1",
   "metadata": {},
   "outputs": [
    {
     "data": {
      "text/plain": [
       "1.0"
      ]
     },
     "execution_count": 211,
     "metadata": {},
     "output_type": "execute_result"
    }
   ],
   "source": [
    "# importing numpy means you need to do numpy.sin( numpy.pi/2 )\n",
    "# importing numpy as np means you need to do np.sin( np.pi/2 ) \n",
    "# importing everything from numpy means you only need sin( pi/2 ) \n",
    "# But this last thing can sometimes cause packages to mess with each other so be careful\n",
    "sin( pi/2 )"
   ]
  },
  {
   "cell_type": "code",
   "execution_count": 212,
   "id": "9350e879",
   "metadata": {},
   "outputs": [],
   "source": [
    "# libraries/packages serve special purposes, and there will always be something specific to your requirement\n",
    "# numpy for trig, linal, and math in general\n",
    "# matplotlib for plotting\n",
    "# networkx for graph theory\n",
    "# qiskit for quantum computing\n",
    "# random for generating and dealing with random numbers"
   ]
  },
  {
   "cell_type": "code",
   "execution_count": 213,
   "id": "c3bde385",
   "metadata": {},
   "outputs": [
    {
     "name": "stdout",
     "output_type": "stream",
     "text": [
      "7\n"
     ]
    }
   ],
   "source": [
    "# define a function with arguments\n",
    "\n",
    "def do_some_maths ( Input1, Input2 ):\n",
    "    the_answer = Input1 + Input2;\n",
    "    return the_answer;\n",
    "\n",
    "x = do_some_maths(4,3);\n",
    "print(x)\n",
    "\n"
   ]
  },
  {
   "cell_type": "code",
   "execution_count": 214,
   "id": "0354cfc0",
   "metadata": {},
   "outputs": [],
   "source": [
    "# If you give a function an object, and the function calls a \n",
    "# method of that object to alter its state\n",
    "# the effect will persist"
   ]
  },
  {
   "cell_type": "code",
   "execution_count": 215,
   "id": "db249123",
   "metadata": {},
   "outputs": [],
   "source": [
    "# effect of a function on a global variable\n",
    "\n",
    "def add_sausages ( input_list ):\n",
    "    if 'Sausages' not in input_list:\n",
    "        input_list.append('Sausages')"
   ]
  },
  {
   "cell_type": "code",
   "execution_count": 216,
   "id": "05fe1f0c",
   "metadata": {},
   "outputs": [
    {
     "name": "stdout",
     "output_type": "stream",
     "text": [
      "List before the function\n",
      "[42, 0.5, True, [0, 1], None, 'Apple', 3.14]\n",
      "\n",
      "List after the function\n",
      "[42, 0.5, True, [0, 1], None, 'Apple', 3.14, 'Sausages']\n"
     ]
    }
   ],
   "source": [
    "print('List before the function')\n",
    "print(a_list)\n",
    "\n",
    "add_sausages(a_list) # function called without an output\n",
    "\n",
    "print('\\nList after the function')\n",
    "print(a_list)"
   ]
  },
  {
   "cell_type": "code",
   "execution_count": 217,
   "id": "8c1406fa",
   "metadata": {},
   "outputs": [
    {
     "name": "stdout",
     "output_type": "stream",
     "text": [
      "* Results from sample 1\n",
      "\n",
      "    Random number from 0 to 1: 0.6548866355289816\n",
      "\n",
      "    Random choice from our list: 42\n",
      "\n",
      "\n",
      "* Results from sample 2\n",
      "\n",
      "    Random number from 0 to 1: 0.8325566028974662\n",
      "\n",
      "    Random choice from our list: True\n",
      "\n",
      "\n",
      "* Results from sample 3\n",
      "\n",
      "    Random number from 0 to 1: 0.8724298552636348\n",
      "\n",
      "    Random choice from our list: Sausages\n",
      "\n",
      "\n",
      "* Results from sample 4\n",
      "\n",
      "    Random number from 0 to 1: 0.633099865933568\n",
      "\n",
      "    Random choice from our list: 0.5\n",
      "\n",
      "\n",
      "* Results from sample 5\n",
      "\n",
      "    Random number from 0 to 1: 0.11113669468964427\n",
      "\n",
      "    Random choice from our list: True\n",
      "\n",
      "\n"
     ]
    }
   ],
   "source": [
    "# random number generation\n",
    "\n",
    "for j in range(5):\n",
    "    print('* Results from sample',j+1)\n",
    "    print('\\n    Random number from 0 to 1:', random.random() )\n",
    "    print('\\n    Random choice from our list:', random.choice( a_list ) )\n",
    "    print('\\n')"
   ]
  },
  {
   "cell_type": "code",
   "execution_count": null,
   "id": "0c079fb3",
   "metadata": {},
   "outputs": [],
   "source": []
  }
 ],
 "metadata": {
  "kernelspec": {
   "display_name": "Python 3 (ipykernel)",
   "language": "python",
   "name": "python3"
  },
  "language_info": {
   "codemirror_mode": {
    "name": "ipython",
    "version": 3
   },
   "file_extension": ".py",
   "mimetype": "text/x-python",
   "name": "python",
   "nbconvert_exporter": "python",
   "pygments_lexer": "ipython3",
   "version": "3.9.7"
  }
 },
 "nbformat": 4,
 "nbformat_minor": 5
}
