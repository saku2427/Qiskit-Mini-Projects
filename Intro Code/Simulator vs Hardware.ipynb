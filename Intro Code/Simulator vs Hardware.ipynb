{
 "cells": [
  {
   "cell_type": "markdown",
   "id": "b7fe884d",
   "metadata": {},
   "source": [
    "<font color='green' size = 5> Comparison Between Simulator and Hardware</font>"
   ]
  },
  {
   "cell_type": "markdown",
   "id": "cbb5f3ac",
   "metadata": {},
   "source": [
    "Here I will run a quantum circuit on the aer simulator, and also on real hardware. At the end I will compare the results."
   ]
  },
  {
   "cell_type": "code",
   "execution_count": 1,
   "id": "9ae8534b",
   "metadata": {},
   "outputs": [],
   "source": [
    "from qiskit import *"
   ]
  },
  {
   "cell_type": "code",
   "execution_count": 2,
   "id": "22addd32",
   "metadata": {},
   "outputs": [],
   "source": [
    "qr = QuantumRegister(2); cr = ClassicalRegister(2);"
   ]
  },
  {
   "cell_type": "code",
   "execution_count": 3,
   "id": "39597275",
   "metadata": {},
   "outputs": [],
   "source": [
    "circuit = QuantumCircuit(qr,cr);"
   ]
  },
  {
   "cell_type": "code",
   "execution_count": 4,
   "id": "f89bc47f",
   "metadata": {},
   "outputs": [],
   "source": [
    "%matplotlib inline"
   ]
  },
  {
   "cell_type": "code",
   "execution_count": 5,
   "id": "6e8a69b4",
   "metadata": {},
   "outputs": [
    {
     "data": {
      "image/png": "[encoded data removed]",
      "text/plain": [
       "<Figure size 129.533x204.68 with 1 Axes>"
      ]
     },
     "execution_count": 5,
     "metadata": {},
     "output_type": "execute_result"
    }
   ],
   "source": [
    "circuit.draw(output='mpl')"
   ]
  },
  {
   "cell_type": "code",
   "execution_count": 6,
   "id": "6b3d85cc",
   "metadata": {},
   "outputs": [],
   "source": [
    "circuit.h(qr[0]);"
   ]
  },
  {
   "cell_type": "code",
   "execution_count": 7,
   "id": "5344c55e",
   "metadata": {},
   "outputs": [
    {
     "data": {
      "image/png": "[encoded data removed]",
      "text/plain": [
       "<Figure size 159.633x204.68 with 1 Axes>"
      ]
     },
     "execution_count": 7,
     "metadata": {},
     "output_type": "execute_result"
    }
   ],
   "source": [
    "circuit.draw(output='mpl')"
   ]
  },
  {
   "cell_type": "code",
   "execution_count": 8,
   "id": "562f0d0d",
   "metadata": {},
   "outputs": [],
   "source": [
    "circuit.cx(qr[0],qr[1]);"
   ]
  },
  {
   "cell_type": "code",
   "execution_count": 9,
   "id": "80e2f2b8",
   "metadata": {},
   "outputs": [
    {
     "data": {
      "image/png": "[encoded data removed]",
      "text/plain": [
       "<Figure size 219.833x204.68 with 1 Axes>"
      ]
     },
     "execution_count": 9,
     "metadata": {},
     "output_type": "execute_result"
    }
   ],
   "source": [
    "circuit.draw(output='mpl')"
   ]
  },
  {
   "cell_type": "code",
   "execution_count": 10,
   "id": "60eb12bb",
   "metadata": {},
   "outputs": [],
   "source": [
    "circuit.measure(qr,cr);"
   ]
  },
  {
   "cell_type": "code",
   "execution_count": 11,
   "id": "7c9157e0",
   "metadata": {},
   "outputs": [
    {
     "data": {
      "image/png": "[encoded data removed]",
      "text/plain": [
       "<Figure size 340.233x204.68 with 1 Axes>"
      ]
     },
     "execution_count": 11,
     "metadata": {},
     "output_type": "execute_result"
    }
   ],
   "source": [
    "circuit.draw(output='mpl')"
   ]
  },
  {
   "cell_type": "code",
   "execution_count": 12,
   "id": "48bd563c",
   "metadata": {},
   "outputs": [],
   "source": [
    " simulator = Aer.get_backend('qasm_simulator')"
   ]
  },
  {
   "cell_type": "code",
   "execution_count": 13,
   "id": "70390841",
   "metadata": {},
   "outputs": [],
   "source": [
    "result = execute(circuit, backend=simulator).result()"
   ]
  },
  {
   "cell_type": "code",
   "execution_count": 14,
   "id": "e5c4ce65",
   "metadata": {},
   "outputs": [],
   "source": [
    "from qiskit.tools.visualization import plot_histogram; from qiskit.providers.ibmq import least_busy;"
   ]
  },
  {
   "cell_type": "code",
   "execution_count": 15,
   "id": "930c5561",
   "metadata": {},
   "outputs": [
    {
     "data": {
      "image/png": "[encoded data removed]",
      "text/plain": [
       "<Figure size 504x360 with 1 Axes>"
      ]
     },
     "execution_count": 15,
     "metadata": {},
     "output_type": "execute_result"
    }
   ],
   "source": [
    "plot_histogram(result.get_counts(circuit))"
   ]
  },
  {
   "cell_type": "code",
   "execution_count": 16,
   "id": "b157a762",
   "metadata": {},
   "outputs": [],
   "source": [
    "IBMQ.load_account();"
   ]
  },
  {
   "cell_type": "code",
   "execution_count": 17,
   "id": "2163907b",
   "metadata": {},
   "outputs": [],
   "source": [
    "provider = IBMQ.get_provider(hub='ibm-q', group='open', project='main')"
   ]
  },
  {
   "cell_type": "code",
   "execution_count": 18,
   "id": "75c69ebb",
   "metadata": {},
   "outputs": [],
   "source": [
    "provider.backends(); nqubits = 2;"
   ]
  },
  {
   "cell_type": "code",
   "execution_count": 19,
   "id": "77c69fd8",
   "metadata": {},
   "outputs": [
    {
     "data": {
      "text/plain": [
       "<IBMQBackend('ibmq_quito') from IBMQ(hub='ibm-q', group='open', project='main')>"
      ]
     },
     "execution_count": 19,
     "metadata": {},
     "output_type": "execute_result"
    }
   ],
   "source": [
    "least_busy(provider.backends(filters=lambda x: x.configuration().n_qubits >= nqubits\n",
    "and not x.configuration().simulator and x.status().operational==True))"
   ]
  },
  {
   "cell_type": "code",
   "execution_count": 20,
   "id": "27a56d57",
   "metadata": {},
   "outputs": [],
   "source": [
    "qcomp = provider.get_backend('ibmq_quito'); job = execute(circuit, backend=qcomp)"
   ]
  },
  {
   "cell_type": "code",
   "execution_count": 21,
   "id": "38802dc8",
   "metadata": {},
   "outputs": [],
   "source": [
    "from qiskit.tools.monitor import job_monitor"
   ]
  },
  {
   "cell_type": "code",
   "execution_count": 22,
   "id": "7598661e",
   "metadata": {},
   "outputs": [
    {
     "name": "stdout",
     "output_type": "stream",
     "text": [
      "Job Status: job has successfully run\n"
     ]
    }
   ],
   "source": [
    "job_monitor(job)"
   ]
  },
  {
   "cell_type": "code",
   "execution_count": 23,
   "id": "46672730",
   "metadata": {},
   "outputs": [
    {
     "data": {
      "image/png": "[encoded data removed]",
      "text/plain": [
       "<Figure size 504x360 with 1 Axes>"
      ]
     },
     "execution_count": 23,
     "metadata": {},
     "output_type": "execute_result"
    }
   ],
   "source": [
    "result = job.result();\n",
    "plot_histogram(result.get_counts(circuit))"
   ]
  },
  {
   "cell_type": "markdown",
   "id": "52b5d04d",
   "metadata": {},
   "source": [
    "Comparing the histograms we see that when we run the circuit on actual hardware, there is error involved and we measure |01> and |10> with non-zero probabilities (these probabilities are zero when we use the simulator, which is the expected result)."
   ]
  }
 ],
 "metadata": {
  "kernelspec": {
   "display_name": "Python 3 (ipykernel)",
   "language": "python",
   "name": "python3"
  },
  "language_info": {
   "codemirror_mode": {
    "name": "ipython",
    "version": 3
   },
   "file_extension": ".py",
   "mimetype": "text/x-python",
   "name": "python",
   "nbconvert_exporter": "python",
   "pygments_lexer": "ipython3",
   "version": "3.9.7"
  }
 },
 "nbformat": 4,
 "nbformat_minor": 5
}
