{
 "cells": [
  {
   "cell_type": "markdown",
   "id": "6cb3bca1",
   "metadata": {},
   "source": [
    "<font color='green' size = 5> Trace Estimation: 1 Clean Qubit and 1 Mixed Qubits</font>"
   ]
  },
  {
   "cell_type": "markdown",
   "id": "448eb40a",
   "metadata": {},
   "source": [
    "This code implements unitary trace estimation using 1 clean qubit and 1 mixed qubits (DCQ1). This it intended as a trail run before moving to the more general problem of n mixed qubits (https://en.wikipedia.org/wiki/One_Clean_Qubit).\n"
   ]
  },
  {
   "cell_type": "code",
   "execution_count": 1,
   "id": "36a550de",
   "metadata": {},
   "outputs": [],
   "source": [
    "from qiskit import *\n",
    "from qiskit.visualization import *\n",
    "import math\n",
    "import matplotlib.pyplot as plt\n",
    "import numpy as np\n",
    "import pylab as P\n",
    "import random\n",
    "import cmath"
   ]
  },
  {
   "cell_type": "code",
   "execution_count": 2,
   "id": "ca4a3d99",
   "metadata": {},
   "outputs": [],
   "source": [
    "def estimaterealpart(numtrials,theta):\n",
    "    \n",
    "    zerocounter = 0;\n",
    "    \n",
    "    for i in range(0,numtrials):\n",
    "        qpe = QuantumCircuit(2,1);\n",
    "        qpe.h(0)\n",
    "        \n",
    "        a = random.randint(0, 9) + 1;\n",
    "        if a > 5:\n",
    "            qpe.x(1)   \n",
    "            \n",
    "        qpe.cp(theta,0,1)\n",
    "        qpe.h(0)\n",
    "        qpe.measure(0,0)    \n",
    "        \n",
    "        simulator = Aer.get_backend('aer_simulator'); \n",
    "        shots = 1; t_qpe = transpile(qpe, simulator); \n",
    "        qobj = assemble(t_qpe, shots=shots)\n",
    "        results = simulator.run(qobj).result(); \n",
    "        answer = results.get_counts()\n",
    "        \n",
    "        res = list(answer)[0];\n",
    "        if int(res) == 0:\n",
    "            zerocounter = zerocounter+1;\n",
    "    \n",
    "    p0 = zerocounter/numtrials   \n",
    "    Retrace = (p0-(0.5))*4\n",
    "    return Retrace;\n",
    "\n",
    "def computevales(numtrials,numberofangles):\n",
    "    theta = np.linspace(0.0, 2.0, num=numberofangles)*(math.pi);\n",
    "    estimates = []; actuals = [];\n",
    "    for i in theta:\n",
    "        estimate = estimaterealpart(numtrials,i);\n",
    "        estimates.append(estimate);\n",
    "        actual = (1+ cmath.exp(i*1j)).real;\n",
    "        actuals.append(actual);\n",
    "    return [estimates, actuals, theta]"
   ]
  },
  {
   "cell_type": "code",
   "execution_count": 3,
   "id": "0bed2ec7",
   "metadata": {},
   "outputs": [
    {
     "data": {
      "image/png": "[encoded data removed]",
      "text/plain": [
       "<Figure size 432x288 with 1 Axes>"
      ]
     },
     "metadata": {
      "needs_background": "light"
     },
     "output_type": "display_data"
    }
   ],
   "source": [
    "[estimates, actuals, theta] = computevales(500,30)\n",
    "plt.plot(theta, estimates, 'bs', label = \"estimate\")\n",
    "plt.plot(theta, actuals, 'r--', label = \"exact\")\n",
    "plt.legend(loc=\"upper center\")\n",
    "plt.ylabel('Re [trace]')\n",
    "plt.xlabel('theta')\n",
    "plt.show()"
   ]
  },
  {
   "cell_type": "code",
   "execution_count": null,
   "id": "c37c2513",
   "metadata": {},
   "outputs": [],
   "source": []
  }
 ],
 "metadata": {
  "kernelspec": {
   "display_name": "Python 3 (ipykernel)",
   "language": "python",
   "name": "python3"
  },
  "language_info": {
   "codemirror_mode": {
    "name": "ipython",
    "version": 3
   },
   "file_extension": ".py",
   "mimetype": "text/x-python",
   "name": "python",
   "nbconvert_exporter": "python",
   "pygments_lexer": "ipython3",
   "version": "3.9.7"
  }
 },
 "nbformat": 4,
 "nbformat_minor": 5
}
